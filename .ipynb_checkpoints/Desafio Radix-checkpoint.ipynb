{
 "cells": [
  {
   "cell_type": "markdown",
   "metadata": {},
   "source": [
    "Temp1, Temp2 Temp3 e Temp4 são temperaturas medidas em diferentes partes da planta\n",
    "Target representa o estado da qualidade da amostra (temp1, temp2, temp3 e temp4) "
   ]
  },
  {
   "cell_type": "code",
   "execution_count": 90,
   "metadata": {
    "collapsed": true
   },
   "outputs": [],
   "source": [
    "import pandas as pd\n",
    "import numpy as np\n",
    "from matplotlib import pyplot as plt\n",
    "\n",
    "\n",
    "#p1_data_test_df = pd.read_csv('p1_data_test.csv',header=0)\n",
    "df = pd.read_csv('p1_data_train.csv',header=0)"
   ]
  },
  {
   "cell_type": "code",
   "execution_count": 120,
   "metadata": {
    "collapsed": true
   },
   "outputs": [],
   "source": [
    "\n",
    "def get_outliers_index(column):\n",
    "    q3 = df[column].median()\n",
    "    q1 =df[df[column] > q2][column].median()\n",
    "    q1 = df[df[column] < q2][column].median()\n",
    "\n",
    "    IQR = q3 - q1\n",
    "\n",
    "    return  df[(df[column] > q3 + 2*IQR) | (df[column] < q1 - 2*IQR)][column].index.values"
   ]
  },
  {
   "cell_type": "code",
   "execution_count": 121,
   "metadata": {
    "collapsed": false
   },
   "outputs": [
    {
     "name": "stdout",
     "output_type": "stream",
     "text": [
      "742\n",
      "190\n",
      "170\n",
      "729\n",
      "\n",
      "1831\n",
      "\n",
      "1583\n"
     ]
    }
   ],
   "source": [
    "def get_outliers_index():\n",
    "    outliers_temp1 = get_outliers_index('Temp1')\n",
    "    outliers_temp2 = get_outliers_index('Temp2')\n",
    "    outliers_temp3 = get_outliers_index('Temp3')\n",
    "    outliers_temp4 = get_outliers_index('Temp4')\n",
    "\n",
    "    print len(outliers_temp1)\n",
    "    print len(outliers_temp2)\n",
    "    print len(outliers_temp3)\n",
    "    print len(outliers_temp4)\n",
    "\n",
    "    index_to_drop = list(outliers_temp1) + list(outliers_temp2) + list(outliers_temp3) + list(outliers_temp4)\n",
    "\n",
    "    print\n",
    "    print len(index_to_drop)\n",
    "    print\n",
    "\n",
    "    index_to_drop = list(np.unique(index_to_drop))\n",
    "    return index_to_drop\n"
   ]
  },
  {
   "cell_type": "code",
   "execution_count": 81,
   "metadata": {
    "collapsed": false
   },
   "outputs": [
    {
     "data": {
      "text/html": [
       "<div>\n",
       "<table border=\"1\" class=\"dataframe\">\n",
       "  <thead>\n",
       "    <tr style=\"text-align: right;\">\n",
       "      <th></th>\n",
       "      <th>name</th>\n",
       "      <th>reports</th>\n",
       "      <th>year</th>\n",
       "    </tr>\n",
       "  </thead>\n",
       "  <tbody>\n",
       "    <tr>\n",
       "      <th>Pima</th>\n",
       "      <td>Molly</td>\n",
       "      <td>24</td>\n",
       "      <td>2012</td>\n",
       "    </tr>\n",
       "    <tr>\n",
       "      <th>Maricopa</th>\n",
       "      <td>Jake</td>\n",
       "      <td>2</td>\n",
       "      <td>2014</td>\n",
       "    </tr>\n",
       "    <tr>\n",
       "      <th>Yuma</th>\n",
       "      <td>Amy</td>\n",
       "      <td>3</td>\n",
       "      <td>2014</td>\n",
       "    </tr>\n",
       "  </tbody>\n",
       "</table>\n",
       "</div>"
      ],
      "text/plain": [
       "           name  reports  year\n",
       "Pima      Molly       24  2012\n",
       "Maricopa   Jake        2  2014\n",
       "Yuma        Amy        3  2014"
      ]
     },
     "execution_count": 81,
     "metadata": {},
     "output_type": "execute_result"
    }
   ],
   "source": [
    "data = {'name': ['Jason', 'Molly', 'Tina', 'Jake', 'Amy'],\n",
    "        'year': [2012, 2012, 2013, 2014, 2014],\n",
    "        'reports': [4, 24, 31, 2, 3]}\n",
    "df = pd.DataFrame(data, index = ['Cochice', 'Pima', 'Santa Cruz', 'Maricopa', 'Yuma'])\n",
    "df.drop(df.index[[0,2]])\n",
    "df.drop(df.index[[0,2]])"
   ]
  },
  {
   "cell_type": "code",
   "execution_count": null,
   "metadata": {
    "collapsed": true
   },
   "outputs": [],
   "source": [
    "\n",
    "a = [1,2,1,3]\n",
    "\n"
   ]
  }
 ],
 "metadata": {
  "anaconda-cloud": {},
  "kernelspec": {
   "display_name": "Python 2",
   "language": "python",
   "name": "python2"
  },
  "language_info": {
   "codemirror_mode": {
    "name": "ipython",
    "version": 2
   },
   "file_extension": ".py",
   "mimetype": "text/x-python",
   "name": "python",
   "nbconvert_exporter": "python",
   "pygments_lexer": "ipython2",
   "version": "2.7.13"
  }
 },
 "nbformat": 4,
 "nbformat_minor": 1
}
